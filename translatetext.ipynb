!pip install requests python-docx
import requests
from docx import Document
import os
subscrition_key = "secret key"
endpoint = "https://api.cognitive.microsofttranslator.com"
location = "eastus2"
target_language = "pt-br"

def translate_text(text, target_language):
    path = '/translate'
    constructed_url = endpoint + path
    headers = {
        'Ocp-Apim-Subscription-Key': subscrition_key,
        'Ocp-Apim-Subscription-Region': location,
        'Content-type': 'application/json',
        'X-ClientTraceId': str(os.urandom(16))
    }
    body = [{
        'text': text
    }]
    params = {
        'api-version': '3.0',
        'from': 'en',
        'to': target_language
    }
    request = requests.post(constructed_url, headers=headers, json=body, params=params)
    response = request.json()
    return response[0]['translations'][0]['text']
translate_text("I take a walk outside, I'm surrounded by some kids at play' wasted", target_language)
def translate_document(path):
    document = Document(path)
    full_text = []
    for paragraph in document.paragraphs:
        translated_paragraph = translate_text(paragraph.text, target_language)
        full_text.append(translated_paragraph)

    translated_doc = Document()
    for line in full_text:
        translated_doc.add_paragraph(line)
    path_translated = path.replace('.docx', f'.{target_language}.docx')
    translated_doc.save(path_translated)
    return path_translated
